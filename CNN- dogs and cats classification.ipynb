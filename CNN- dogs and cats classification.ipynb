{
 "cells": [
  {
   "cell_type": "code",
   "execution_count": 1,
   "metadata": {},
   "outputs": [
    {
     "name": "stderr",
     "output_type": "stream",
     "text": [
      "Using TensorFlow backend.\n"
     ]
    }
   ],
   "source": [
    "#importing keras library and packages\n",
    "from keras.models import Sequential\n",
    "from keras.layers import Convolution2D\n",
    "from keras.layers import MaxPooling2D\n",
    "from keras.layers import Flatten\n",
    "from keras.layers import Dense"
   ]
  },
  {
   "cell_type": "code",
   "execution_count": 2,
   "metadata": {},
   "outputs": [
    {
     "name": "stderr",
     "output_type": "stream",
     "text": [
      "C:\\Users\\Lenovo\\Anaconda3\\lib\\site-packages\\ipykernel_launcher.py:7: UserWarning: Update your `Conv2D` call to the Keras 2 API: `Conv2D(32, (3, 3), input_shape=(64, 64, 3..., activation=\"relu\")`\n",
      "  import sys\n"
     ]
    }
   ],
   "source": [
    "#Initializing the CNN\n",
    "classifier=Sequential()\n",
    "#Step 1 - Convolution\n",
    "#32,3*3 - 32 layers of 3*3 feature detectors\n",
    "#input shape - 3 is for RGB 64 is for pixels, can range from 0 to 255\n",
    "#activation is to remove the linearity, to remove -ve pixels if any\n",
    "classifier.add(Convolution2D(32, 3,3, input_shape=(64,64,3), activation='relu'))\n"
   ]
  },
  {
   "cell_type": "code",
   "execution_count": 3,
   "metadata": {},
   "outputs": [],
   "source": [
    "#Step 2- pooling\n",
    "classifier.add(MaxPooling2D(pool_size=(2,2)))"
   ]
  },
  {
   "cell_type": "code",
   "execution_count": 4,
   "metadata": {},
   "outputs": [],
   "source": [
    "#Step 3- flattening\n",
    "classifier.add(Flatten())"
   ]
  },
  {
   "cell_type": "code",
   "execution_count": 5,
   "metadata": {},
   "outputs": [
    {
     "name": "stderr",
     "output_type": "stream",
     "text": [
      "C:\\Users\\Lenovo\\Anaconda3\\lib\\site-packages\\ipykernel_launcher.py:2: UserWarning: Update your `Dense` call to the Keras 2 API: `Dense(activation=\"relu\", units=128)`\n",
      "  \n",
      "C:\\Users\\Lenovo\\Anaconda3\\lib\\site-packages\\ipykernel_launcher.py:3: UserWarning: Update your `Dense` call to the Keras 2 API: `Dense(activation=\"sigmoid\", units=1)`\n",
      "  This is separate from the ipykernel package so we can avoid doing imports until\n"
     ]
    }
   ],
   "source": [
    "#Step 4- Full connection\n",
    "classifier.add(Dense(output_dim=128, activation='relu')) #hidden layer\n",
    "classifier.add(Dense(output_dim=1, activation='sigmoid')) #output layer"
   ]
  },
  {
   "cell_type": "code",
   "execution_count": 7,
   "metadata": {},
   "outputs": [],
   "source": [
    "#compiling the cnn\n",
    "classifier.compile(optimizer='adam',loss='binary_crossentropy' ,metrics=['accuracy']) #adam- stochastic gradient descent"
   ]
  },
  {
   "cell_type": "code",
   "execution_count": 8,
   "metadata": {},
   "outputs": [],
   "source": [
    "# Part 2 - Fitting the CNN to the images\n",
    "#Image augmentation to avoid overfit\n",
    "from keras.preprocessing.image import ImageDataGenerator\n",
    "train_datagen = ImageDataGenerator(\n",
    "        rescale=1./255,\n",
    "        shear_range=0.2,\n",
    "        zoom_range=0.2,\n",
    "        horizontal_flip=True)\n"
   ]
  },
  {
   "cell_type": "code",
   "execution_count": 9,
   "metadata": {},
   "outputs": [],
   "source": [
    "test_datagen = ImageDataGenerator(rescale=1./255)\n"
   ]
  },
  {
   "cell_type": "code",
   "execution_count": 11,
   "metadata": {},
   "outputs": [
    {
     "name": "stdout",
     "output_type": "stream",
     "text": [
      "Found 8000 images belonging to 2 classes.\n"
     ]
    }
   ],
   "source": [
    "train_dataset = train_datagen.flow_from_directory(\n",
    "        'F:\\\\DSP-19\\\\Python\\\\CNN\\\\original\\\\dataset\\\\training_set',\n",
    "        target_size=(64, 64),\n",
    "        batch_size=32,\n",
    "        class_mode='binary')\n"
   ]
  },
  {
   "cell_type": "code",
   "execution_count": 12,
   "metadata": {},
   "outputs": [
    {
     "name": "stdout",
     "output_type": "stream",
     "text": [
      "Found 2000 images belonging to 2 classes.\n"
     ]
    }
   ],
   "source": [
    "test_dataset = test_datagen.flow_from_directory(\n",
    "        'F:\\\\DSP-19\\\\Python\\\\CNN\\\\original\\\\dataset\\\\test_set',\n",
    "        target_size=(64, 64),\n",
    "        batch_size=32,\n",
    "        class_mode='binary')\n"
   ]
  },
  {
   "cell_type": "code",
   "execution_count": null,
   "metadata": {},
   "outputs": [
    {
     "name": "stdout",
     "output_type": "stream",
     "text": [
      "Epoch 1/25\n",
      "8000/8000 [==============================] - 3314s 414ms/step - loss: 0.4308 - accuracy: 0.7926 - val_loss: 0.4077 - val_accuracy: 0.7675\n",
      "Epoch 2/25\n",
      "8000/8000 [==============================] - 2616s 327ms/step - loss: 0.1931 - accuracy: 0.9218 - val_loss: 1.3315 - val_accuracy: 0.7569\n",
      "Epoch 3/25\n",
      "8000/8000 [==============================] - 2449s 306ms/step - loss: 0.0941 - accuracy: 0.9653 - val_loss: 3.1325 - val_accuracy: 0.7511\n",
      "Epoch 4/25\n",
      "8000/8000 [==============================] - 2451s 306ms/step - loss: 0.0607 - accuracy: 0.9786 - val_loss: 1.5045 - val_accuracy: 0.7355\n",
      "Epoch 5/25\n",
      "8000/8000 [==============================] - 2558s 320ms/step - loss: 0.0454 - accuracy: 0.9844 - val_loss: 1.2190 - val_accuracy: 0.7418\n",
      "Epoch 6/25\n",
      "8000/8000 [==============================] - 2591s 324ms/step - loss: 0.0379 - accuracy: 0.9874 - val_loss: 3.5678 - val_accuracy: 0.7477\n",
      "Epoch 7/25\n",
      "8000/8000 [==============================] - 2436s 304ms/step - loss: 0.0317 - accuracy: 0.9895 - val_loss: 2.9826 - val_accuracy: 0.7194\n",
      "Epoch 8/25\n",
      "8000/8000 [==============================] - 2471s 309ms/step - loss: 0.0271 - accuracy: 0.9913 - val_loss: 2.5919 - val_accuracy: 0.7656\n",
      "Epoch 9/25\n",
      "8000/8000 [==============================] - 2964s 371ms/step - loss: 0.0247 - accuracy: 0.9920 - val_loss: 4.9717 - val_accuracy: 0.7613\n",
      "Epoch 10/25\n",
      "8000/8000 [==============================] - 6000s 750ms/step - loss: 0.0217 - accuracy: 0.9931 - val_loss: 1.0694 - val_accuracy: 0.7473\n",
      "Epoch 11/25\n",
      "8000/8000 [==============================] - 3104s 388ms/step - loss: 0.0197 - accuracy: 0.9935 - val_loss: 1.1721 - val_accuracy: 0.7584\n",
      "Epoch 12/25\n",
      "7491/8000 [===========================>..] - ETA: 8:57 - loss: 0.0182 - accuracy: 0.9942"
     ]
    },
    {
     "name": "stderr",
     "output_type": "stream",
     "text": [
      "C:\\Users\\Lenovo\\Anaconda3\\lib\\site-packages\\keras\\utils\\data_utils.py:616: UserWarning: The input 60 could not be retrieved. It could be because a worker has died.\n",
      "  UserWarning)\n"
     ]
    },
    {
     "name": "stdout",
     "output_type": "stream",
     "text": [
      "8000/8000 [==============================] - 8699s 1s/step - loss: 0.0181 - accuracy: 0.9943 - val_loss: 4.2912 - val_accuracy: 0.7496\n",
      "Epoch 13/25\n",
      "8000/8000 [==============================] - 3432s 429ms/step - loss: 0.0157 - accuracy: 0.9950 - val_loss: 2.3085 - val_accuracy: 0.7451\n",
      "Epoch 14/25\n",
      "3952/8000 [=============>................] - ETA: 3:48:37 - loss: 0.0160 - accuracy: 0.9949"
     ]
    },
    {
     "name": "stderr",
     "output_type": "stream",
     "text": [
      "C:\\Users\\Lenovo\\Anaconda3\\lib\\site-packages\\keras\\utils\\data_utils.py:616: UserWarning: The input 65 could not be retrieved. It could be because a worker has died.\n",
      "  UserWarning)\n"
     ]
    },
    {
     "name": "stdout",
     "output_type": "stream",
     "text": [
      "8000/8000 [==============================] - 36826s 5s/step - loss: 0.0159 - accuracy: 0.9949 - val_loss: 1.4212 - val_accuracy: 0.7634\n",
      "Epoch 15/25\n",
      "8000/8000 [==============================] - 2829s 354ms/step - loss: 0.0146 - accuracy: 0.9955 - val_loss: 2.4302 - val_accuracy: 0.7623\n",
      "Epoch 16/25\n",
      "8000/8000 [==============================] - 3106s 388ms/step - loss: 0.0143 - accuracy: 0.9957 - val_loss: 2.4240 - val_accuracy: 0.7628\n",
      "Epoch 17/25\n",
      "8000/8000 [==============================] - 2628s 328ms/step - loss: 0.0124 - accuracy: 0.9960 - val_loss: 2.2015 - val_accuracy: 0.7474\n",
      "Epoch 18/25\n",
      "3561/8000 [============>.................] - ETA: 20:43 - loss: 0.0129 - accuracy: 0.9960"
     ]
    }
   ],
   "source": [
    "classifier.fit(\n",
    "        train_dataset,\n",
    "        steps_per_epoch=8000,\n",
    "        epochs=25,\n",
    "        validation_data=test_dataset,\n",
    "        validation_steps=2000)"
   ]
  }
 ],
 "metadata": {
  "kernelspec": {
   "display_name": "Python 3",
   "language": "python",
   "name": "python3"
  },
  "language_info": {
   "codemirror_mode": {
    "name": "ipython",
    "version": 3
   },
   "file_extension": ".py",
   "mimetype": "text/x-python",
   "name": "python",
   "nbconvert_exporter": "python",
   "pygments_lexer": "ipython3",
   "version": "3.7.4"
  }
 },
 "nbformat": 4,
 "nbformat_minor": 2
}
